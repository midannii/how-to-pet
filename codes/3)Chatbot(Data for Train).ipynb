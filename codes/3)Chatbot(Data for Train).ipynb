{
 "cells": [
  {
   "cell_type": "markdown",
   "metadata": {},
   "source": [
    "# Intent 와 NER 모델을 만들기 위한 Data의 구성 방법\n",
    "- reuse of https://github.com/TensorMSA/tensormsa_jupyter/blob/master/chap13_chatbot_lecture/3.Chatbot(Data%20for%20Train).ipynb\n",
    "\n",
    " - 먹이질문, 훈련법질문, 질병질문, 성격(견종별)질문의 각각의 Entity구성 (서비스시에는 Entity는 별도 DB로 구성\n",
    " - Entity 별 N by N의 수로 정제된 Text를 구할 수 있음"
   ]
  },
  {
   "cell_type": "code",
   "execution_count": 1,
   "metadata": {},
   "outputs": [],
   "source": [
    "train_data_feature = ['말티즈 성격 어때?']\n",
    "train_data_sympt = ['자꾸 털이 빠지고 기침을 하네 ㅠㅠ']\n",
    "train_data_vaccin = ['지금8개월인데예방접종뭐해야해?']\n",
    "train_data_feed = ['초콜릿 먹여도 되냐?']"
   ]
  },
  {
   "cell_type": "code",
   "execution_count": 72,
   "metadata": {
    "collapsed": false,
    "jupyter": {
     "outputs_hidden": false
    }
   },
   "outputs": [
    {
     "name": "stdout",
     "output_type": "stream",
     "text": [
      "Augmentation length is 108\n"
     ]
    }
   ],
   "source": [
    "get_data_list = train_data_vaccin[0]\n",
    "\n",
    "dict_entity = {\n",
    "    'age' : ['개월', '살'],\n",
    "    'feed' : ['초콜릿','사과','당근'],\n",
    "    'menu' : ['피자','햄버거'],\n",
    "    'vaccin' : ['접종', '예방', '주사'],\n",
    "    'sympt' : ['털', '빠짐', '기침']\n",
    "}\n",
    "\n",
    "length = 1\n",
    "for key in list(dict_entity.keys()):\n",
    "    length = length * len(dict_entity[key])\n",
    "print(\"Augmentation length is {0}\".format(length))"
   ]
  },
  {
   "cell_type": "code",
   "execution_count": 4,
   "metadata": {},
   "outputs": [
    {
     "data": {
      "text/plain": [
       "'지금8개월인데예방접종뭐해야해?'"
      ]
     },
     "execution_count": 4,
     "metadata": {},
     "output_type": "execute_result"
    }
   ],
   "source": [
    "get_data_list"
   ]
  },
  {
   "cell_type": "markdown",
   "metadata": {},
   "source": [
    "# 형태소 분석"
   ]
  },
  {
   "cell_type": "code",
   "execution_count": 3,
   "metadata": {
    "collapsed": false,
    "jupyter": {
     "outputs_hidden": false
    }
   },
   "outputs": [],
   "source": [
    "from konlpy.tag import Mecab\n",
    "mecab = Mecab('/usr/local/lib/mecab/dic/mecab-ko-dic')\n",
    "morpphed_text = mecab.pos(get_data_list)"
   ]
  },
  {
   "cell_type": "code",
   "execution_count": 6,
   "metadata": {},
   "outputs": [
    {
     "name": "stdout",
     "output_type": "stream",
     "text": [
      "[('지금', 'MAG'), ('8', 'SN'), ('개월', 'NNBC'), ('인데', 'VCP+EC'), ('예방', 'NNG'), ('접종', 'NNG'), ('뭐', 'IC'), ('해야', 'VV+EC'), ('해', 'VX+EF'), ('?', 'SF')]\n"
     ]
    }
   ],
   "source": [
    "print(morpphed_text)"
   ]
  },
  {
   "cell_type": "markdown",
   "metadata": {},
   "source": [
    "# Feature Engineering (명사만 도출)\n",
    "\n",
    "Feature Engineering으로 Intent와 NER의 정확도를 높임)\n",
    " - 일반명사(NNG) [메뉴]\n",
    " - 고유명사(NNP) [지역]\n",
    " - 영어(SL) [Pizza]\n",
    " - 시간부사(MAG) [오늘, 내일, 모래], 시간단위(NNBC) [개월, 살]\n",
    " - 숫자(SN) \n",
    " - 한국어 품사 태그 비교표 https://docs.google.com/spreadsheets/d/1OGAjUvalBuX-oZvZ_-9tEfYD2gQe7hTGsgUpiiBSXI8/edit#gid=0"
   ]
  },
  {
   "cell_type": "code",
   "execution_count": 73,
   "metadata": {
    "collapsed": false,
    "jupyter": {
     "outputs_hidden": false
    }
   },
   "outputs": [
    {
     "name": "stdout",
     "output_type": "stream",
     "text": [
      "지금 개월 예방 접종 \n"
     ]
    }
   ],
   "source": [
    "tagged_text = ''\n",
    "for pos_tags in morpphed_text:\n",
    "    if (pos_tags[1] in ['NNG','MAG', 'NNP','SL', 'NNBC'] and len(pos_tags[0]) > 1): #Check only Noun\n",
    "        feature_value = pos_tags[0]\n",
    "        tagged_text = tagged_text + pos_tags[0] + ' '\n",
    "print(tagged_text)"
   ]
  },
  {
   "cell_type": "code",
   "execution_count": 74,
   "metadata": {},
   "outputs": [
    {
     "name": "stdout",
     "output_type": "stream",
     "text": [
      "['8개월']\n"
     ]
    }
   ],
   "source": [
    "tagged_num = []\n",
    "\n",
    "for i in range(len(morpphed_text)-1):\n",
    "    pos_tags = morpphed_text[i]\n",
    "    if pos_tags[1] == 'SN': #Check only Noun\n",
    "        feature_value = pos_tags[0] + morpphed_text[i+1][0]\n",
    "        tagged_num.append(feature_value)\n",
    "print(tagged_num)"
   ]
  },
  {
   "cell_type": "code",
   "execution_count": 86,
   "metadata": {},
   "outputs": [],
   "source": [
    "# 'NNG','MAG', 'NNP','SL', 'NNBC' 지만, 예외인 단어들\n",
    "\n",
    "except_list = ['지금', '이제']"
   ]
  },
  {
   "cell_type": "markdown",
   "metadata": {},
   "source": [
    "# Intent 학습 Data의 구성\n",
    "\n",
    "- Intent 성능 향상을 위해 parse한 Text Data를 represent화 함"
   ]
  },
  {
   "cell_type": "code",
   "execution_count": 87,
   "metadata": {
    "collapsed": false,
    "jupyter": {
     "outputs_hidden": false
    }
   },
   "outputs": [
    {
     "name": "stdout",
     "output_type": "stream",
     "text": [
      "tagage tagvaccin tagvaccin  \n"
     ]
    }
   ],
   "source": [
    "pattern = ''\n",
    "for word in tagged_text.split(' '):\n",
    "    if word in except_list: continue\n",
    "    entity = list(filter(lambda key:word in dict_entity[key],list(dict_entity.keys())))\n",
    "    if(len(entity) > 0): \n",
    "        pattern = pattern + 'tag' + entity[0] + ' '\n",
    "    else:\n",
    "        pattern = pattern + word + ' '\n",
    "\n",
    "print(pattern)"
   ]
  },
  {
   "cell_type": "markdown",
   "metadata": {},
   "source": [
    "# Data augmentation (Entity and Pattern)\n",
    " - 각 의도별 Pattern text를 entity의 N 배수로 Augmenatation 작업"
   ]
  },
  {
   "cell_type": "code",
   "execution_count": 88,
   "metadata": {
    "collapsed": false,
    "jupyter": {
     "outputs_hidden": false
    },
    "scrolled": true
   },
   "outputs": [],
   "source": [
    "def augmentation_pattern(pattern, dict_entity):\n",
    "    #입력된 패턴을 List로 바꿈\n",
    "    aug_pattern = pattern.split(' ')\n",
    "    #Augment된 Text List\n",
    "    augmented_text_list = []\n",
    "    #copy를 위한 임시 List\n",
    "    temp_aug = []\n",
    "    for i in range(0,len(aug_pattern)):\n",
    "        #Entity에 해당하는 값일 경우 Entity List를 가져옴\n",
    "        if(aug_pattern[i].find(\"tag\") > -1):\n",
    "            dict_list = dict_entity[aug_pattern[i].replace(\"tag\",\"\")]\n",
    "            #각 Entity별로 값을 append하면서 Pattern구성\n",
    "            for j in range(0,len(dict_list)):\n",
    "                #최초 Entity값은 그냥 추가만함\n",
    "                if(i == 0):\n",
    "                    augmented_text_list.append(dict_list[j] + \" \")\n",
    "                elif(j == 1):\n",
    "                    augmented_text_list = list(filter(lambda word:len(word.split(' ')) == i + 1 ,augmented_text_list))\n",
    "                    copy_data_order = augmented_text_list * (len(dict_list)-2)\n",
    "                    augmented_text_list = list(map(lambda x:x + dict_list[j] + \" \",augmented_text_list))\n",
    "                    augmented_text_list = augmented_text_list + temp_aug + copy_data_order\n",
    "                    print(augmented_text_list)\n",
    "                else:\n",
    "                    #List의 수를 체크하여 값을 추가\n",
    "                    temp_aug = list(filter(lambda word:len(word.split(' ')) == i+1 ,augmented_text_list))\n",
    "                    temp_aug = list(map(lambda x:x + dict_list[j] + \" \" ,temp_aug))\n",
    "                    #추가된 List를 위해 기존 값 삭제\n",
    "                    if(j != 0):\n",
    "                        augmented_text_list = augmented_text_list[0:len(augmented_text_list) - len(temp_aug)]\n",
    "                    augmented_text_list = augmented_text_list + temp_aug\n",
    "\n",
    "        #Entity추가 대상이 아닐 경우 Pattern만 추가\n",
    "        else:\n",
    "            augmented_text_list = list(map(lambda x:x + aug_pattern[i] + \" \",augmented_text_list))\n",
    "        #N*N으로 증가시키기 위한 List\n",
    "        temp_aug = augmented_text_list\n",
    "\n",
    "    return augmented_text_list"
   ]
  },
  {
   "cell_type": "code",
   "execution_count": 89,
   "metadata": {
    "collapsed": false,
    "jupyter": {
     "outputs_hidden": false
    }
   },
   "outputs": [
    {
     "name": "stdout",
     "output_type": "stream",
     "text": [
      "['개월 예방 ', '살 예방 ', '개월 접종 ', '살 접종 ', '개월 ', '살 ']\n",
      "['개월 예방 예방 ', '살 예방 예방 ', '개월 접종 예방 ', '살 접종 예방 ', '개월 주사 예방 ', '살 주사 예방 ', '개월 예방 접종 ', '살 예방 접종 ', '개월 접종 접종 ', '살 접종 접종 ', '개월 주사 접종 ', '살 주사 접종 ', '개월 예방 ', '살 예방 ', '개월 접종 ', '살 접종 ', '개월 주사 ', '살 주사 ']\n"
     ]
    }
   ],
   "source": [
    "augmented_text_list = augmentation_pattern(pattern, dict_entity)"
   ]
  },
  {
   "cell_type": "code",
   "execution_count": 90,
   "metadata": {},
   "outputs": [
    {
     "data": {
      "text/plain": [
       "['개월 예방 예방   ',\n",
       " '살 예방 예방   ',\n",
       " '개월 접종 예방   ',\n",
       " '살 접종 예방   ',\n",
       " '개월 주사 예방   ',\n",
       " '살 주사 예방   ',\n",
       " '개월 예방 접종   ',\n",
       " '살 예방 접종   ',\n",
       " '개월 접종 접종   ',\n",
       " '살 접종 접종   ',\n",
       " '개월 주사 접종   ',\n",
       " '살 주사 접종   ',\n",
       " '개월 예방 주사   ',\n",
       " '살 예방 주사   ',\n",
       " '개월 접종 주사   ',\n",
       " '살 접종 주사   ',\n",
       " '개월 주사 주사   ',\n",
       " '살 주사 주사   ']"
      ]
     },
     "execution_count": 90,
     "metadata": {},
     "output_type": "execute_result"
    }
   ],
   "source": [
    "augmented_text_list"
   ]
  },
  {
   "cell_type": "markdown",
   "metadata": {},
   "source": [
    "# BIO Tagging"
   ]
  },
  {
   "cell_type": "code",
   "execution_count": 91,
   "metadata": {
    "collapsed": false,
    "jupyter": {
     "outputs_hidden": false
    }
   },
   "outputs": [],
   "source": [
    "def augmentation_bio_pattern(pattern, dict_entity):\n",
    "    #입력된 패턴을 List로 바꿈\n",
    "    aug_pattern = pattern.split(' ')\n",
    "    #Augment된 Text List\n",
    "    augmented_text_list = []\n",
    "    #copy를 위한 임시 List\n",
    "    temp_aug = []\n",
    "    for i in range(0,len(aug_pattern)):\n",
    "        #Entity에 해당하는 값일 경우 Entity List를 가져옴\n",
    "        if(aug_pattern[i].find(\"tag\") > -1):\n",
    "            dict_list = dict_entity[aug_pattern[i].replace(\"tag\",\"\")]\n",
    "            bio_tag = aug_pattern[i].replace(\"tag\",\"B_\")\n",
    "            #각 Entity별로 값을 append하면서 Pattern구성\n",
    "            for j in range(0,len(dict_list)):\n",
    "                #최초 Entity값은 그냥 추가만함\n",
    "                if(i == 0):\n",
    "                    augmented_text_list.append(bio_tag + \" \")\n",
    "                elif(j == 1):\n",
    "                    augmented_text_list = list(filter(lambda word:len(word.split(' ')) == i + 1 ,augmented_text_list))\n",
    "                    copy_data_order = augmented_text_list * (len(dict_list)-2)\n",
    "                    augmented_text_list = list(map(lambda x:x + bio_tag + \" \",augmented_text_list))\n",
    "                    augmented_text_list = augmented_text_list + temp_aug + copy_data_order\n",
    "                else:\n",
    "                    #List의 수를 체크하여 값을 추가\n",
    "                    temp_aug = list(filter(lambda word:len(word.split(' ')) == i+1 ,augmented_text_list))\n",
    "                    temp_aug = list(map(lambda x:x + bio_tag + \" \" ,temp_aug))\n",
    "                    #추가된 List를 위해 기존 값 삭제\n",
    "                    if(j != 0):\n",
    "                        augmented_text_list = augmented_text_list[0:len(augmented_text_list) - len(temp_aug)]\n",
    "                    augmented_text_list = augmented_text_list + temp_aug\n",
    "\n",
    "        #Entity추가 대상이 아닐 경우 Pattern만 추가\n",
    "        else:\n",
    "            augmented_text_list = list(map(lambda x:x + aug_pattern[i] + \" \",augmented_text_list))\n",
    "        #N*N으로 증가시키기 위한 List\n",
    "        temp_aug = augmented_text_list\n",
    "    return augmented_text_list"
   ]
  },
  {
   "cell_type": "code",
   "execution_count": 92,
   "metadata": {
    "collapsed": false,
    "jupyter": {
     "outputs_hidden": false
    }
   },
   "outputs": [
    {
     "data": {
      "text/plain": [
       "['B_age B_vaccin B_vaccin   ',\n",
       " 'B_age B_vaccin B_vaccin   ',\n",
       " 'B_age B_vaccin B_vaccin   ',\n",
       " 'B_age B_vaccin B_vaccin   ',\n",
       " 'B_age B_vaccin B_vaccin   ',\n",
       " 'B_age B_vaccin B_vaccin   ',\n",
       " 'B_age B_vaccin B_vaccin   ',\n",
       " 'B_age B_vaccin B_vaccin   ',\n",
       " 'B_age B_vaccin B_vaccin   ',\n",
       " 'B_age B_vaccin B_vaccin   ',\n",
       " 'B_age B_vaccin B_vaccin   ',\n",
       " 'B_age B_vaccin B_vaccin   ',\n",
       " 'B_age B_vaccin B_vaccin   ',\n",
       " 'B_age B_vaccin B_vaccin   ',\n",
       " 'B_age B_vaccin B_vaccin   ',\n",
       " 'B_age B_vaccin B_vaccin   ',\n",
       " 'B_age B_vaccin B_vaccin   ',\n",
       " 'B_age B_vaccin B_vaccin   ']"
      ]
     },
     "execution_count": 92,
     "metadata": {},
     "output_type": "execute_result"
    }
   ],
   "source": [
    "bio_list = augmentation_bio_pattern(pattern, dict_entity)\n",
    "bio_list"
   ]
  },
  {
   "cell_type": "markdown",
   "metadata": {},
   "source": [
    "# NER을 위한 Full Train Text 확보\n",
    " - tag entity를 NER 학습을 위한 Labeled Entity로 변환 (Bi-LSTM 학습을 위함)"
   ]
  },
  {
   "cell_type": "code",
   "execution_count": 96,
   "metadata": {
    "collapsed": false,
    "jupyter": {
     "outputs_hidden": false
    }
   },
   "outputs": [
    {
     "data": {
      "text/plain": [
       "[['개월 예방 예방   ',\n",
       "  '살 예방 예방   ',\n",
       "  '개월 접종 예방   ',\n",
       "  '살 접종 예방   ',\n",
       "  '개월 주사 예방   ',\n",
       "  '살 주사 예방   ',\n",
       "  '개월 예방 접종   ',\n",
       "  '살 예방 접종   ',\n",
       "  '개월 접종 접종   ',\n",
       "  '살 접종 접종   ',\n",
       "  '개월 주사 접종   ',\n",
       "  '살 주사 접종   ',\n",
       "  '개월 예방 주사   ',\n",
       "  '살 예방 주사   ',\n",
       "  '개월 접종 주사   ',\n",
       "  '살 접종 주사   ',\n",
       "  '개월 주사 주사   ',\n",
       "  '살 주사 주사   '],\n",
       " ['B_age B_vaccin B_vaccin   ',\n",
       "  'B_age B_vaccin B_vaccin   ',\n",
       "  'B_age B_vaccin B_vaccin   ',\n",
       "  'B_age B_vaccin B_vaccin   ',\n",
       "  'B_age B_vaccin B_vaccin   ',\n",
       "  'B_age B_vaccin B_vaccin   ',\n",
       "  'B_age B_vaccin B_vaccin   ',\n",
       "  'B_age B_vaccin B_vaccin   ',\n",
       "  'B_age B_vaccin B_vaccin   ',\n",
       "  'B_age B_vaccin B_vaccin   ',\n",
       "  'B_age B_vaccin B_vaccin   ',\n",
       "  'B_age B_vaccin B_vaccin   ',\n",
       "  'B_age B_vaccin B_vaccin   ',\n",
       "  'B_age B_vaccin B_vaccin   ',\n",
       "  'B_age B_vaccin B_vaccin   ',\n",
       "  'B_age B_vaccin B_vaccin   ',\n",
       "  'B_age B_vaccin B_vaccin   ',\n",
       "  'B_age B_vaccin B_vaccin   ']]"
      ]
     },
     "execution_count": 96,
     "metadata": {},
     "output_type": "execute_result"
    }
   ],
   "source": [
    "ner_train_text = [augmented_text_list, bio_list]\n",
    "ner_train_text"
   ]
  },
  {
   "cell_type": "markdown",
   "metadata": {},
   "source": [
    "# 위에서 얻은 Data를 토데로 Intent와 NER의 모델을 얻기 위해 학습시킬 수 있음"
   ]
  }
 ],
 "metadata": {
  "anaconda-cloud": {},
  "kernelspec": {
   "display_name": "Python 3",
   "language": "python",
   "name": "python3"
  },
  "language_info": {
   "codemirror_mode": {
    "name": "ipython",
    "version": 3
   },
   "file_extension": ".py",
   "mimetype": "text/x-python",
   "name": "python",
   "nbconvert_exporter": "python",
   "pygments_lexer": "ipython3",
   "version": "3.7.6"
  }
 },
 "nbformat": 4,
 "nbformat_minor": 4
}
